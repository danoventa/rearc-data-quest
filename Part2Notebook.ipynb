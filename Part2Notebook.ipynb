{
 "cells": [
  {
   "cell_type": "code",
   "execution_count": 8,
   "metadata": {},
   "outputs": [],
   "source": [
    "import urllib\n",
    "import boto3\n",
    "import logging\n",
    "from botocore.client import Config\n",
    "from urllib.request import urlopen\n",
    "import json\n",
    "\n"
   ]
  },
  {
   "cell_type": "code",
   "execution_count": 19,
   "metadata": {},
   "outputs": [],
   "source": [
    "\n",
    "class DataSyncer():\n",
    "    def __init__(self, url: str, s3_bucket: str) -> None:\n",
    "        self.url = url\n",
    "        self.census_data = None\n",
    "        self.s3_client = boto3.client('s3', config=Config(signature_version='s3v4'))\n",
    "        self.s3_bucket = s3_bucket\n",
    "        self.prefix = \"census_data\"\n",
    "\n",
    "        s3 = boto3.resource('s3')\n",
    "        self.bucket = s3.Bucket(s3_bucket)\n",
    "\n",
    "        opener = urllib.request.build_opener()\n",
    "        opener.addheaders = [(\"User-Agent\", \"Mozilla/5.0 (Windows NT 10.0; Win64; x64) AppleWebKit/537.36 (KHTML, like Gecko) Chrome/125.0.0.0 Safari/537.36\")]\n",
    "        urllib.request.install_opener(opener)\n",
    "\n",
    "\n",
    "    def extract_census_data(self) -> 'DataSyncer':\n",
    "        logging.log(logging.INFO, f\"Extracting data from {self.url}\")\n",
    "        with urlopen(f\"{self.url}\") as response:\n",
    "            self.census_data = json.loads(response.read())\n",
    "        return self\n",
    "\n",
    "\n",
    "    def load_census_data_to_s3(self) -> None:\n",
    "        logging.log(logging.INFO, f\"Uploading census data to S3 bucket {self.s3_bucket}\")\n",
    "        self.bucket.put_object(Key=f\"{self.prefix}.json\", Body=json.dumps(self.census_data))\n",
    "        "
   ]
  },
  {
   "cell_type": "code",
   "execution_count": 20,
   "metadata": {},
   "outputs": [
    {
     "data": {
      "text/plain": [
       "<__main__.DataSyncer at 0x7fd991ecf6e0>"
      ]
     },
     "execution_count": 20,
     "metadata": {},
     "output_type": "execute_result"
    }
   ],
   "source": [
    "url = \"https://datausa.io/api/data?drilldowns=Nation&measures=Population\"\n",
    "\n",
    "syncer = DataSyncer(url, \"noventa-scratch-bucket\")\n",
    "syncer.extract_census_data().load_census_data_to_s3()"
   ]
  },
  {
   "cell_type": "code",
   "execution_count": null,
   "metadata": {},
   "outputs": [],
   "source": []
  }
 ],
 "metadata": {
  "kernelspec": {
   "display_name": "rearc-data-quest-wolObd07-py3.12",
   "language": "python",
   "name": "python3"
  },
  "language_info": {
   "codemirror_mode": {
    "name": "ipython",
    "version": 3
   },
   "file_extension": ".py",
   "mimetype": "text/x-python",
   "name": "python",
   "nbconvert_exporter": "python",
   "pygments_lexer": "ipython3",
   "version": "3.12.3"
  }
 },
 "nbformat": 4,
 "nbformat_minor": 2
}
